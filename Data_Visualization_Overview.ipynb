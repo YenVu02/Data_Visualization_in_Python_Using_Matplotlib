{
 "cells": [
  {
   "cell_type": "markdown",
   "id": "9c0faac0-fcda-49ee-9cd9-c01a8abeb9fc",
   "metadata": {
    "slideshow": {
     "slide_type": "slide"
    },
    "tags": []
   },
   "source": [
    "# 1. Data visualization là gì"
   ]
  },
  {
   "cell_type": "markdown",
   "id": "3711fe50-f076-4385-abf5-074b16843cd3",
   "metadata": {},
   "source": [
    "    - Data visualization được dịch là trực quan hóa dữ liệu, là cách biểu diễn dữ liệu dưới các hình ảnh, biểu đồ, bảng đồ trực quan.\n",
    "    - Mục đích là biến các nguồn dữ liệu thành những thông tin được thể hiện một cách trực quan, dễ quan sát, dễ hiểu, để truyền đạt rõ ràng những hiểu biết đầy đủ(insights) từ dữ liệu đến người xem, người đọc."
   ]
  },
  {
   "cell_type": "markdown",
   "id": "ef75109f-22a9-4808-a96a-8b0ee34170e9",
   "metadata": {},
   "source": [
    "![](https://i.imgur.com/zJv9RY4.jpg)"
   ]
  },
  {
   "cell_type": "markdown",
   "id": "dcffc569-0c7d-48ac-8a5d-be95c2aabc0c",
   "metadata": {},
   "source": [
    "# 2. Ưu điểm của data visualization"
   ]
  },
  {
   "cell_type": "markdown",
   "id": "8f9a3a7d-1443-4b95-9643-ba7cbaf1bd46",
   "metadata": {},
   "source": [
    "- Sẽ nhanh chóng thấy các xu hướng và dễ dàng thấy các điểm ngoại lai\n",
    "- Có thể chuyển đổi dữ liệu thô thành thông tin chi tiết hữu ích mà bất kỳ ai cũng có thể hiểu, mà còn có thể đẩy nhanh quá trình ra quyết định, xác định mô hình và xu hướng.\n"
   ]
  },
  {
   "cell_type": "markdown",
   "id": "931775de-7177-4999-a273-3c64258bd312",
   "metadata": {},
   "source": [
    "# 3. Data visualzation thường được dùng ở đâu?"
   ]
  },
  {
   "cell_type": "markdown",
   "id": "7cfe659e-52fe-4cb6-9c50-ae8593b7a387",
   "metadata": {},
   "source": [
    "Data visualization được sử dụng trong: sale và marketing; chính trị; tài chính; logistics; chăm sóc sức khỏe…."
   ]
  }
 ],
 "metadata": {
  "kernelspec": {
   "display_name": "anaconda-2022.05-py39",
   "language": "python",
   "name": "conda-env-anaconda-2022.05-py39-py"
  },
  "language_info": {
   "codemirror_mode": {
    "name": "ipython",
    "version": 3
   },
   "file_extension": ".py",
   "mimetype": "text/x-python",
   "name": "python",
   "nbconvert_exporter": "python",
   "pygments_lexer": "ipython3",
   "version": "3.9.12"
  },
  "toc-autonumbering": false,
  "toc-showtags": false
 },
 "nbformat": 4,
 "nbformat_minor": 5
}
